{
 "cells": [
  {
   "cell_type": "code",
   "execution_count": null,
   "metadata": {},
   "outputs": [
    {
     "ename": "",
     "evalue": "",
     "output_type": "error",
     "traceback": [
      "\u001b[1;31m現在のセルまたは前のセルでコードを実行中に、カーネル (Kernel) がクラッシュしました。\n",
      "\u001b[1;31mエラーの原因を特定するには、セル内のコードを確認してください。\n",
      "\u001b[1;31m詳細については<a href='https://aka.ms/vscodeJupyterKernelCrash'>こちら</a>をクリックします。\n",
      "\u001b[1;31m詳細については、Jupyter <a href='command:jupyter.viewOutput'>ログ</a> を参照してください。"
     ]
    }
   ],
   "source": [
    "import pygame\n",
    "import pygame.font\n",
    "\n",
    "\n",
    "pygame.init()\n",
    "screen = pygame.display.set_mode((640, 240))\n",
    "pygame.display.set_caption('font demo')\n",
    "large_text = pygame.font.Font('fonts/hack-fonts/Hack-Regular.ttf', 36)\n",
    "small_text = pygame.font.Font('fonts/hack-fonts/Hack-Bold.ttf',48)\n",
    "\n",
    "running = True"
   ]
  },
  {
   "cell_type": "code",
   "execution_count": 42,
   "metadata": {},
   "outputs": [
    {
     "data": {
      "text/plain": [
       "<pygame.font.Font at 0x1ddb4cce7c0>"
      ]
     },
     "execution_count": 42,
     "metadata": {},
     "output_type": "execute_result"
    }
   ],
   "source": [
    "large_text"
   ]
  },
  {
   "cell_type": "code",
   "execution_count": 43,
   "metadata": {},
   "outputs": [
    {
     "data": {
      "text/plain": [
       "True"
      ]
     },
     "execution_count": 43,
     "metadata": {},
     "output_type": "execute_result"
    }
   ],
   "source": [
    "running"
   ]
  },
  {
   "cell_type": "code",
   "execution_count": 44,
   "metadata": {},
   "outputs": [
    {
     "data": {
      "text/plain": [
       "<rect(80, 48, 348, 56)>"
      ]
     },
     "execution_count": 44,
     "metadata": {},
     "output_type": "execute_result"
    }
   ],
   "source": [
    "\n",
    "\n",
    "    screen.fill((250, 180, 0))\n",
    "    text_surface = large_text.render('hello minecraft!', True, (0, 0, 0))\n",
    "    screen.blit(text_surface, (20, 12))\n",
    "\n",
    "    text_surface = small_text.render('how are you?', False, (0, 0, 0))\n",
    "    screen.blit(text_surface, (80, 48))\n",
    "\n"
   ]
  },
  {
   "cell_type": "code",
   "execution_count": 45,
   "metadata": {},
   "outputs": [],
   "source": [
    "pygame.display.flip()"
   ]
  },
  {
   "cell_type": "code",
   "execution_count": 31,
   "metadata": {},
   "outputs": [],
   "source": [
    "disp_msg = \"Hello,world!\"\n",
    "i = 0\n"
   ]
  },
  {
   "cell_type": "code",
   "execution_count": 36,
   "metadata": {},
   "outputs": [
    {
     "name": "stdout",
     "output_type": "stream",
     "text": [
      "72\n",
      "101\n",
      "108\n",
      "108\n",
      "111\n",
      "44\n",
      "119\n",
      "111\n",
      "114\n",
      "108\n",
      "100\n",
      "33\n"
     ]
    }
   ],
   "source": [
    "for i in range(len(disp_msg)):\n",
    "    print(ord(disp_msg[i]))\n"
   ]
  },
  {
   "cell_type": "code",
   "execution_count": 37,
   "metadata": {},
   "outputs": [],
   "source": [
    "\n",
    "msg=(ord(disp_msg[i]))\n"
   ]
  },
  {
   "cell_type": "code",
   "execution_count": 38,
   "metadata": {},
   "outputs": [],
   "source": [
    "\n",
    "code = msg"
   ]
  },
  {
   "cell_type": "code",
   "execution_count": 39,
   "metadata": {},
   "outputs": [
    {
     "name": "stdout",
     "output_type": "stream",
     "text": [
      "Player Sharuta set to location: 200, 0, 200 in world \"world\"\n",
      "33\n"
     ]
    }
   ],
   "source": [
    "import sys\n",
    "from datetime import datetime\n",
    "import pygame\n",
    "from seven_seg_pg import Seven_seg\n",
    "import pygame\n",
    "import pygame.freetype\n",
    "# import time\n",
    "from lcd_font_pg_seven_seg import LCD_font\n",
    "from mcje.minecraft import Minecraft\n",
    "import param_MCJE as param\n",
    "from param_MCJE import PLAYER_ORIGIN as po\n",
    "mc = Minecraft.create(address=param.ADRS_MCR, port=param.PORT_MCR)\n",
    "result = mc.setPlayer(param.PLAYER_NAME, po.x, po.y, po.z)\n",
    "if (\"Error\" in result):\n",
    "    sys.exit(result)\n",
    "else:\n",
    "    print(result)\n",
    "with open(\"fonts/font.txt\", encoding=\"utf-8\") as f:\n",
    "        LCD_font_styles = f.read().split('\\n')\n",
    "for y in range(1):\n",
    "        for x in range(1):\n",
    "            if LCD_font_styles[int(code*7+y)][x] == \"1\":\n",
    "                mc.postToChat('kadai # ASCII文字表示')\n",
    "print(code)"
   ]
  },
  {
   "cell_type": "code",
   "execution_count": null,
   "metadata": {},
   "outputs": [],
   "source": []
  }
 ],
 "metadata": {
  "kernelspec": {
   "display_name": "Python 3",
   "language": "python",
   "name": "python3"
  },
  "language_info": {
   "codemirror_mode": {
    "name": "ipython",
    "version": 3
   },
   "file_extension": ".py",
   "mimetype": "text/x-python",
   "name": "python",
   "nbconvert_exporter": "python",
   "pygments_lexer": "ipython3",
   "version": "3.11.9"
  }
 },
 "nbformat": 4,
 "nbformat_minor": 2
}
